{
 "cells": [
  {
   "cell_type": "markdown",
   "metadata": {},
   "source": [
    "# Census Income Data Set "
   ]
  },
  {
   "cell_type": "markdown",
   "metadata": {},
   "source": [
    "Abstract: Predict whether income exceeds $50K/yr based on census data. Also known as \"Adult\" dataset."
   ]
  },
  {
   "cell_type": "code",
   "execution_count": 11,
   "metadata": {
    "ExecuteTime": {
     "end_time": "2019-10-01T16:03:41.255401Z",
     "start_time": "2019-10-01T16:03:37.183168Z"
    }
   },
   "outputs": [],
   "source": [
    "import pandas as pd\n",
    "import numpy as np\n",
    "from tqdm import tqdm_notebook\n",
    "from matplotlib import pyplot as plt\n",
    "from scipy import stats\n",
    "%matplotlib inline"
   ]
  },
  {
   "cell_type": "markdown",
   "metadata": {},
   "source": [
    "# Load the Data"
   ]
  },
  {
   "cell_type": "code",
   "execution_count": 3,
   "metadata": {
    "ExecuteTime": {
     "end_time": "2019-10-01T15:44:37.389976Z",
     "start_time": "2019-10-01T15:44:37.383976Z"
    }
   },
   "outputs": [],
   "source": [
    "col_names=['age',\n",
    "            'workclass',\n",
    "            'fnlwgt',\n",
    "            'education',\n",
    "            'education-num',\n",
    "            'marital-status',\n",
    "            'occupation',\n",
    "            'relationship',\n",
    "            'race',\n",
    "            'sex',\n",
    "            'capital-gain',\n",
    "            'capital-loss',\n",
    "            'hours-per-week',\n",
    "            'native-country',\n",
    "            'inc_class']\n"
   ]
  },
  {
   "cell_type": "code",
   "execution_count": 4,
   "metadata": {
    "ExecuteTime": {
     "end_time": "2019-10-01T15:44:37.887004Z",
     "start_time": "2019-10-01T15:44:37.392976Z"
    }
   },
   "outputs": [
    {
     "data": {
      "text/html": [
       "<div>\n",
       "<style scoped>\n",
       "    .dataframe tbody tr th:only-of-type {\n",
       "        vertical-align: middle;\n",
       "    }\n",
       "\n",
       "    .dataframe tbody tr th {\n",
       "        vertical-align: top;\n",
       "    }\n",
       "\n",
       "    .dataframe thead th {\n",
       "        text-align: right;\n",
       "    }\n",
       "</style>\n",
       "<table border=\"1\" class=\"dataframe\">\n",
       "  <thead>\n",
       "    <tr style=\"text-align: right;\">\n",
       "      <th></th>\n",
       "      <th>age</th>\n",
       "      <th>workclass</th>\n",
       "      <th>fnlwgt</th>\n",
       "      <th>education</th>\n",
       "      <th>education-num</th>\n",
       "      <th>marital-status</th>\n",
       "      <th>occupation</th>\n",
       "      <th>relationship</th>\n",
       "      <th>race</th>\n",
       "      <th>sex</th>\n",
       "      <th>capital-gain</th>\n",
       "      <th>capital-loss</th>\n",
       "      <th>hours-per-week</th>\n",
       "      <th>native-country</th>\n",
       "      <th>inc_class</th>\n",
       "    </tr>\n",
       "  </thead>\n",
       "  <tbody>\n",
       "    <tr>\n",
       "      <th>0</th>\n",
       "      <td>39</td>\n",
       "      <td>State-gov</td>\n",
       "      <td>77516</td>\n",
       "      <td>Bachelors</td>\n",
       "      <td>13</td>\n",
       "      <td>Never-married</td>\n",
       "      <td>Adm-clerical</td>\n",
       "      <td>Not-in-family</td>\n",
       "      <td>White</td>\n",
       "      <td>Male</td>\n",
       "      <td>2174</td>\n",
       "      <td>0</td>\n",
       "      <td>40</td>\n",
       "      <td>United-States</td>\n",
       "      <td>&lt;=50K</td>\n",
       "    </tr>\n",
       "    <tr>\n",
       "      <th>1</th>\n",
       "      <td>50</td>\n",
       "      <td>Self-emp-not-inc</td>\n",
       "      <td>83311</td>\n",
       "      <td>Bachelors</td>\n",
       "      <td>13</td>\n",
       "      <td>Married-civ-spouse</td>\n",
       "      <td>Exec-managerial</td>\n",
       "      <td>Husband</td>\n",
       "      <td>White</td>\n",
       "      <td>Male</td>\n",
       "      <td>0</td>\n",
       "      <td>0</td>\n",
       "      <td>13</td>\n",
       "      <td>United-States</td>\n",
       "      <td>&lt;=50K</td>\n",
       "    </tr>\n",
       "    <tr>\n",
       "      <th>2</th>\n",
       "      <td>38</td>\n",
       "      <td>Private</td>\n",
       "      <td>215646</td>\n",
       "      <td>HS-grad</td>\n",
       "      <td>9</td>\n",
       "      <td>Divorced</td>\n",
       "      <td>Handlers-cleaners</td>\n",
       "      <td>Not-in-family</td>\n",
       "      <td>White</td>\n",
       "      <td>Male</td>\n",
       "      <td>0</td>\n",
       "      <td>0</td>\n",
       "      <td>40</td>\n",
       "      <td>United-States</td>\n",
       "      <td>&lt;=50K</td>\n",
       "    </tr>\n",
       "    <tr>\n",
       "      <th>3</th>\n",
       "      <td>53</td>\n",
       "      <td>Private</td>\n",
       "      <td>234721</td>\n",
       "      <td>11th</td>\n",
       "      <td>7</td>\n",
       "      <td>Married-civ-spouse</td>\n",
       "      <td>Handlers-cleaners</td>\n",
       "      <td>Husband</td>\n",
       "      <td>Black</td>\n",
       "      <td>Male</td>\n",
       "      <td>0</td>\n",
       "      <td>0</td>\n",
       "      <td>40</td>\n",
       "      <td>United-States</td>\n",
       "      <td>&lt;=50K</td>\n",
       "    </tr>\n",
       "    <tr>\n",
       "      <th>4</th>\n",
       "      <td>28</td>\n",
       "      <td>Private</td>\n",
       "      <td>338409</td>\n",
       "      <td>Bachelors</td>\n",
       "      <td>13</td>\n",
       "      <td>Married-civ-spouse</td>\n",
       "      <td>Prof-specialty</td>\n",
       "      <td>Wife</td>\n",
       "      <td>Black</td>\n",
       "      <td>Female</td>\n",
       "      <td>0</td>\n",
       "      <td>0</td>\n",
       "      <td>40</td>\n",
       "      <td>Cuba</td>\n",
       "      <td>&lt;=50K</td>\n",
       "    </tr>\n",
       "  </tbody>\n",
       "</table>\n",
       "</div>"
      ],
      "text/plain": [
       "   age          workclass  fnlwgt   education  education-num  \\\n",
       "0   39          State-gov   77516   Bachelors             13   \n",
       "1   50   Self-emp-not-inc   83311   Bachelors             13   \n",
       "2   38            Private  215646     HS-grad              9   \n",
       "3   53            Private  234721        11th              7   \n",
       "4   28            Private  338409   Bachelors             13   \n",
       "\n",
       "        marital-status          occupation    relationship    race      sex  \\\n",
       "0        Never-married        Adm-clerical   Not-in-family   White     Male   \n",
       "1   Married-civ-spouse     Exec-managerial         Husband   White     Male   \n",
       "2             Divorced   Handlers-cleaners   Not-in-family   White     Male   \n",
       "3   Married-civ-spouse   Handlers-cleaners         Husband   Black     Male   \n",
       "4   Married-civ-spouse      Prof-specialty            Wife   Black   Female   \n",
       "\n",
       "   capital-gain  capital-loss  hours-per-week  native-country inc_class  \n",
       "0          2174             0              40   United-States     <=50K  \n",
       "1             0             0              13   United-States     <=50K  \n",
       "2             0             0              40   United-States     <=50K  \n",
       "3             0             0              40   United-States     <=50K  \n",
       "4             0             0              40            Cuba     <=50K  "
      ]
     },
     "execution_count": 4,
     "metadata": {},
     "output_type": "execute_result"
    }
   ],
   "source": [
    "ds=pd.read_csv('adult.data', ',', names=col_names, index_col=False)\n",
    "ds.head()"
   ]
  },
  {
   "cell_type": "code",
   "execution_count": 5,
   "metadata": {
    "ExecuteTime": {
     "end_time": "2019-10-01T15:44:37.895005Z",
     "start_time": "2019-10-01T15:44:37.890005Z"
    }
   },
   "outputs": [
    {
     "data": {
      "text/plain": [
       "(32561, 15)"
      ]
     },
     "execution_count": 5,
     "metadata": {},
     "output_type": "execute_result"
    }
   ],
   "source": [
    "ds.shape"
   ]
  },
  {
   "cell_type": "code",
   "execution_count": null,
   "metadata": {},
   "outputs": [],
   "source": []
  },
  {
   "cell_type": "markdown",
   "metadata": {},
   "source": [
    "# Basics of Data Analytics"
   ]
  },
  {
   "cell_type": "markdown",
   "metadata": {},
   "source": [
    "## Descriptive statistics"
   ]
  },
  {
   "cell_type": "code",
   "execution_count": 7,
   "metadata": {
    "ExecuteTime": {
     "end_time": "2019-10-01T15:44:53.466896Z",
     "start_time": "2019-10-01T15:44:53.399892Z"
    },
    "scrolled": true
   },
   "outputs": [
    {
     "data": {
      "text/html": [
       "<div>\n",
       "<style scoped>\n",
       "    .dataframe tbody tr th:only-of-type {\n",
       "        vertical-align: middle;\n",
       "    }\n",
       "\n",
       "    .dataframe tbody tr th {\n",
       "        vertical-align: top;\n",
       "    }\n",
       "\n",
       "    .dataframe thead th {\n",
       "        text-align: right;\n",
       "    }\n",
       "</style>\n",
       "<table border=\"1\" class=\"dataframe\">\n",
       "  <thead>\n",
       "    <tr style=\"text-align: right;\">\n",
       "      <th></th>\n",
       "      <th>age</th>\n",
       "      <th>fnlwgt</th>\n",
       "      <th>education-num</th>\n",
       "      <th>capital-gain</th>\n",
       "      <th>capital-loss</th>\n",
       "      <th>hours-per-week</th>\n",
       "    </tr>\n",
       "  </thead>\n",
       "  <tbody>\n",
       "    <tr>\n",
       "      <th>count</th>\n",
       "      <td>32561.000000</td>\n",
       "      <td>3.256100e+04</td>\n",
       "      <td>32561.000000</td>\n",
       "      <td>32561.000000</td>\n",
       "      <td>32561.000000</td>\n",
       "      <td>32561.000000</td>\n",
       "    </tr>\n",
       "    <tr>\n",
       "      <th>mean</th>\n",
       "      <td>38.581647</td>\n",
       "      <td>1.897784e+05</td>\n",
       "      <td>10.080679</td>\n",
       "      <td>1077.648844</td>\n",
       "      <td>87.303830</td>\n",
       "      <td>40.437456</td>\n",
       "    </tr>\n",
       "    <tr>\n",
       "      <th>std</th>\n",
       "      <td>13.640433</td>\n",
       "      <td>1.055500e+05</td>\n",
       "      <td>2.572720</td>\n",
       "      <td>7385.292085</td>\n",
       "      <td>402.960219</td>\n",
       "      <td>12.347429</td>\n",
       "    </tr>\n",
       "    <tr>\n",
       "      <th>min</th>\n",
       "      <td>17.000000</td>\n",
       "      <td>1.228500e+04</td>\n",
       "      <td>1.000000</td>\n",
       "      <td>0.000000</td>\n",
       "      <td>0.000000</td>\n",
       "      <td>1.000000</td>\n",
       "    </tr>\n",
       "    <tr>\n",
       "      <th>25%</th>\n",
       "      <td>28.000000</td>\n",
       "      <td>1.178270e+05</td>\n",
       "      <td>9.000000</td>\n",
       "      <td>0.000000</td>\n",
       "      <td>0.000000</td>\n",
       "      <td>40.000000</td>\n",
       "    </tr>\n",
       "    <tr>\n",
       "      <th>50%</th>\n",
       "      <td>37.000000</td>\n",
       "      <td>1.783560e+05</td>\n",
       "      <td>10.000000</td>\n",
       "      <td>0.000000</td>\n",
       "      <td>0.000000</td>\n",
       "      <td>40.000000</td>\n",
       "    </tr>\n",
       "    <tr>\n",
       "      <th>75%</th>\n",
       "      <td>48.000000</td>\n",
       "      <td>2.370510e+05</td>\n",
       "      <td>12.000000</td>\n",
       "      <td>0.000000</td>\n",
       "      <td>0.000000</td>\n",
       "      <td>45.000000</td>\n",
       "    </tr>\n",
       "    <tr>\n",
       "      <th>max</th>\n",
       "      <td>90.000000</td>\n",
       "      <td>1.484705e+06</td>\n",
       "      <td>16.000000</td>\n",
       "      <td>99999.000000</td>\n",
       "      <td>4356.000000</td>\n",
       "      <td>99.000000</td>\n",
       "    </tr>\n",
       "  </tbody>\n",
       "</table>\n",
       "</div>"
      ],
      "text/plain": [
       "                age        fnlwgt  education-num  capital-gain  capital-loss  \\\n",
       "count  32561.000000  3.256100e+04   32561.000000  32561.000000  32561.000000   \n",
       "mean      38.581647  1.897784e+05      10.080679   1077.648844     87.303830   \n",
       "std       13.640433  1.055500e+05       2.572720   7385.292085    402.960219   \n",
       "min       17.000000  1.228500e+04       1.000000      0.000000      0.000000   \n",
       "25%       28.000000  1.178270e+05       9.000000      0.000000      0.000000   \n",
       "50%       37.000000  1.783560e+05      10.000000      0.000000      0.000000   \n",
       "75%       48.000000  2.370510e+05      12.000000      0.000000      0.000000   \n",
       "max       90.000000  1.484705e+06      16.000000  99999.000000   4356.000000   \n",
       "\n",
       "       hours-per-week  \n",
       "count    32561.000000  \n",
       "mean        40.437456  \n",
       "std         12.347429  \n",
       "min          1.000000  \n",
       "25%         40.000000  \n",
       "50%         40.000000  \n",
       "75%         45.000000  \n",
       "max         99.000000  "
      ]
     },
     "execution_count": 7,
     "metadata": {},
     "output_type": "execute_result"
    }
   ],
   "source": [
    "ds.describe()"
   ]
  },
  {
   "cell_type": "code",
   "execution_count": 8,
   "metadata": {
    "ExecuteTime": {
     "end_time": "2019-10-01T15:45:14.780115Z",
     "start_time": "2019-10-01T15:45:14.638106Z"
    }
   },
   "outputs": [
    {
     "data": {
      "text/html": [
       "<div>\n",
       "<style scoped>\n",
       "    .dataframe tbody tr th:only-of-type {\n",
       "        vertical-align: middle;\n",
       "    }\n",
       "\n",
       "    .dataframe tbody tr th {\n",
       "        vertical-align: top;\n",
       "    }\n",
       "\n",
       "    .dataframe thead th {\n",
       "        text-align: right;\n",
       "    }\n",
       "</style>\n",
       "<table border=\"1\" class=\"dataframe\">\n",
       "  <thead>\n",
       "    <tr style=\"text-align: right;\">\n",
       "      <th></th>\n",
       "      <th>workclass</th>\n",
       "      <th>education</th>\n",
       "      <th>marital-status</th>\n",
       "      <th>occupation</th>\n",
       "      <th>relationship</th>\n",
       "      <th>race</th>\n",
       "      <th>sex</th>\n",
       "      <th>native-country</th>\n",
       "      <th>inc_class</th>\n",
       "    </tr>\n",
       "  </thead>\n",
       "  <tbody>\n",
       "    <tr>\n",
       "      <th>count</th>\n",
       "      <td>32561</td>\n",
       "      <td>32561</td>\n",
       "      <td>32561</td>\n",
       "      <td>32561</td>\n",
       "      <td>32561</td>\n",
       "      <td>32561</td>\n",
       "      <td>32561</td>\n",
       "      <td>32561</td>\n",
       "      <td>32561</td>\n",
       "    </tr>\n",
       "    <tr>\n",
       "      <th>unique</th>\n",
       "      <td>9</td>\n",
       "      <td>16</td>\n",
       "      <td>7</td>\n",
       "      <td>15</td>\n",
       "      <td>6</td>\n",
       "      <td>5</td>\n",
       "      <td>2</td>\n",
       "      <td>42</td>\n",
       "      <td>2</td>\n",
       "    </tr>\n",
       "    <tr>\n",
       "      <th>top</th>\n",
       "      <td>Private</td>\n",
       "      <td>HS-grad</td>\n",
       "      <td>Married-civ-spouse</td>\n",
       "      <td>Prof-specialty</td>\n",
       "      <td>Husband</td>\n",
       "      <td>White</td>\n",
       "      <td>Male</td>\n",
       "      <td>United-States</td>\n",
       "      <td>&lt;=50K</td>\n",
       "    </tr>\n",
       "    <tr>\n",
       "      <th>freq</th>\n",
       "      <td>22696</td>\n",
       "      <td>10501</td>\n",
       "      <td>14976</td>\n",
       "      <td>4140</td>\n",
       "      <td>13193</td>\n",
       "      <td>27816</td>\n",
       "      <td>21790</td>\n",
       "      <td>29170</td>\n",
       "      <td>24720</td>\n",
       "    </tr>\n",
       "  </tbody>\n",
       "</table>\n",
       "</div>"
      ],
      "text/plain": [
       "       workclass education       marital-status       occupation relationship  \\\n",
       "count      32561     32561                32561            32561        32561   \n",
       "unique         9        16                    7               15            6   \n",
       "top      Private   HS-grad   Married-civ-spouse   Prof-specialty      Husband   \n",
       "freq       22696     10501                14976             4140        13193   \n",
       "\n",
       "          race    sex  native-country inc_class  \n",
       "count    32561  32561           32561     32561  \n",
       "unique       5      2              42         2  \n",
       "top      White   Male   United-States     <=50K  \n",
       "freq     27816  21790           29170     24720  "
      ]
     },
     "execution_count": 8,
     "metadata": {},
     "output_type": "execute_result"
    }
   ],
   "source": [
    "ds.describe(include='O')"
   ]
  },
  {
   "cell_type": "code",
   "execution_count": 13,
   "metadata": {
    "ExecuteTime": {
     "end_time": "2019-10-06T15:27:09.846416Z",
     "start_time": "2019-10-06T15:27:07.587287Z"
    },
    "scrolled": true
   },
   "outputs": [
    {
     "data": {
      "text/html": [
       "<div>\n",
       "<style scoped>\n",
       "    .dataframe tbody tr th:only-of-type {\n",
       "        vertical-align: middle;\n",
       "    }\n",
       "\n",
       "    .dataframe tbody tr th {\n",
       "        vertical-align: top;\n",
       "    }\n",
       "\n",
       "    .dataframe thead th {\n",
       "        text-align: right;\n",
       "    }\n",
       "</style>\n",
       "<table border=\"1\" class=\"dataframe\">\n",
       "  <thead>\n",
       "    <tr style=\"text-align: right;\">\n",
       "      <th></th>\n",
       "      <th>Parameters</th>\n",
       "      <th>age</th>\n",
       "      <th>fnlwgt</th>\n",
       "      <th>education-num</th>\n",
       "      <th>capital-gain</th>\n",
       "      <th>capital-loss</th>\n",
       "      <th>hours-per-week</th>\n",
       "    </tr>\n",
       "  </thead>\n",
       "  <tbody>\n",
       "    <tr>\n",
       "      <th>0</th>\n",
       "      <td>Mean</td>\n",
       "      <td>38.5816</td>\n",
       "      <td>189778</td>\n",
       "      <td>10.0807</td>\n",
       "      <td>1077.65</td>\n",
       "      <td>87.3038</td>\n",
       "      <td>40.4375</td>\n",
       "    </tr>\n",
       "    <tr>\n",
       "      <th>1</th>\n",
       "      <td>Median</td>\n",
       "      <td>37</td>\n",
       "      <td>178356</td>\n",
       "      <td>10</td>\n",
       "      <td>0</td>\n",
       "      <td>0</td>\n",
       "      <td>40</td>\n",
       "    </tr>\n",
       "    <tr>\n",
       "      <th>2</th>\n",
       "      <td>Mode</td>\n",
       "      <td>([36], [898])</td>\n",
       "      <td>([123011], [13])</td>\n",
       "      <td>([9], [10501])</td>\n",
       "      <td>([0], [29849])</td>\n",
       "      <td>([0], [31042])</td>\n",
       "      <td>([40], [15217])</td>\n",
       "    </tr>\n",
       "    <tr>\n",
       "      <th>3</th>\n",
       "      <td>Standard error</td>\n",
       "      <td>0.0755926</td>\n",
       "      <td>584.937</td>\n",
       "      <td>0.0142575</td>\n",
       "      <td>40.9278</td>\n",
       "      <td>2.23313</td>\n",
       "      <td>0.068427</td>\n",
       "    </tr>\n",
       "    <tr>\n",
       "      <th>4</th>\n",
       "      <td>Standard deviation</td>\n",
       "      <td>13.6402</td>\n",
       "      <td>105548</td>\n",
       "      <td>2.57268</td>\n",
       "      <td>7385.18</td>\n",
       "      <td>402.954</td>\n",
       "      <td>12.3472</td>\n",
       "    </tr>\n",
       "    <tr>\n",
       "      <th>5</th>\n",
       "      <td>Variance</td>\n",
       "      <td>186.056</td>\n",
       "      <td>1.11405e+10</td>\n",
       "      <td>6.61869</td>\n",
       "      <td>5.45409e+07</td>\n",
       "      <td>162372</td>\n",
       "      <td>152.454</td>\n",
       "    </tr>\n",
       "    <tr>\n",
       "      <th>6</th>\n",
       "      <td>Coefficient of variation</td>\n",
       "      <td>0.353542</td>\n",
       "      <td>0.556166</td>\n",
       "      <td>0.255209</td>\n",
       "      <td>6.85305</td>\n",
       "      <td>4.61554</td>\n",
       "      <td>0.305342</td>\n",
       "    </tr>\n",
       "    <tr>\n",
       "      <th>7</th>\n",
       "      <td>Skewness</td>\n",
       "      <td>0.558718</td>\n",
       "      <td>1.44691</td>\n",
       "      <td>-0.311662</td>\n",
       "      <td>11.9533</td>\n",
       "      <td>4.59442</td>\n",
       "      <td>0.227632</td>\n",
       "    </tr>\n",
       "    <tr>\n",
       "      <th>8</th>\n",
       "      <td>Kurtosis</td>\n",
       "      <td>-0.166286</td>\n",
       "      <td>6.21767</td>\n",
       "      <td>0.623164</td>\n",
       "      <td>154.775</td>\n",
       "      <td>20.3735</td>\n",
       "      <td>2.91605</td>\n",
       "    </tr>\n",
       "    <tr>\n",
       "      <th>9</th>\n",
       "      <td>Min</td>\n",
       "      <td>17</td>\n",
       "      <td>12285</td>\n",
       "      <td>1</td>\n",
       "      <td>0</td>\n",
       "      <td>0</td>\n",
       "      <td>1</td>\n",
       "    </tr>\n",
       "    <tr>\n",
       "      <th>10</th>\n",
       "      <td>Max</td>\n",
       "      <td>90</td>\n",
       "      <td>1484705</td>\n",
       "      <td>16</td>\n",
       "      <td>99999</td>\n",
       "      <td>4356</td>\n",
       "      <td>99</td>\n",
       "    </tr>\n",
       "    <tr>\n",
       "      <th>11</th>\n",
       "      <td>Range</td>\n",
       "      <td>73</td>\n",
       "      <td>1472420</td>\n",
       "      <td>15</td>\n",
       "      <td>99999</td>\n",
       "      <td>4356</td>\n",
       "      <td>98</td>\n",
       "    </tr>\n",
       "    <tr>\n",
       "      <th>12</th>\n",
       "      <td>Sum</td>\n",
       "      <td>1256257</td>\n",
       "      <td>6179373392</td>\n",
       "      <td>328237</td>\n",
       "      <td>35089324</td>\n",
       "      <td>2842700</td>\n",
       "      <td>1316684</td>\n",
       "    </tr>\n",
       "    <tr>\n",
       "      <th>13</th>\n",
       "      <td>Count</td>\n",
       "      <td>32561</td>\n",
       "      <td>32561</td>\n",
       "      <td>32561</td>\n",
       "      <td>32561</td>\n",
       "      <td>32561</td>\n",
       "      <td>32561</td>\n",
       "    </tr>\n",
       "  </tbody>\n",
       "</table>\n",
       "</div>"
      ],
      "text/plain": [
       "                  Parameters            age            fnlwgt   education-num  \\\n",
       "0                       Mean        38.5816            189778         10.0807   \n",
       "1                     Median             37            178356              10   \n",
       "2                       Mode  ([36], [898])  ([123011], [13])  ([9], [10501])   \n",
       "3             Standard error      0.0755926           584.937       0.0142575   \n",
       "4         Standard deviation        13.6402            105548         2.57268   \n",
       "5                   Variance        186.056       1.11405e+10         6.61869   \n",
       "6   Coefficient of variation       0.353542          0.556166        0.255209   \n",
       "7                   Skewness       0.558718           1.44691       -0.311662   \n",
       "8                   Kurtosis      -0.166286           6.21767        0.623164   \n",
       "9                        Min             17             12285               1   \n",
       "10                       Max             90           1484705              16   \n",
       "11                     Range             73           1472420              15   \n",
       "12                       Sum        1256257        6179373392          328237   \n",
       "13                     Count          32561             32561           32561   \n",
       "\n",
       "      capital-gain    capital-loss   hours-per-week  \n",
       "0          1077.65         87.3038          40.4375  \n",
       "1                0               0               40  \n",
       "2   ([0], [29849])  ([0], [31042])  ([40], [15217])  \n",
       "3          40.9278         2.23313         0.068427  \n",
       "4          7385.18         402.954          12.3472  \n",
       "5      5.45409e+07          162372          152.454  \n",
       "6          6.85305         4.61554         0.305342  \n",
       "7          11.9533         4.59442         0.227632  \n",
       "8          154.775         20.3735          2.91605  \n",
       "9                0               0                1  \n",
       "10           99999            4356               99  \n",
       "11           99999            4356               98  \n",
       "12        35089324         2842700          1316684  \n",
       "13           32561           32561            32561  "
      ]
     },
     "execution_count": 13,
     "metadata": {},
     "output_type": "execute_result"
    }
   ],
   "source": [
    "def cv(series):\n",
    "    return np.std(series)/np.mean(series)\n",
    "    \n",
    "def desc(ds):\n",
    "    #fill NAs with 0\n",
    "    ds.fillna(0)\n",
    "    \n",
    "    #create data frame for output\n",
    "    stat_ds=pd.DataFrame()\n",
    "    \n",
    "    #calculated parameters\n",
    "    params={'Mean':np.mean,\n",
    "            'Median':np.median,\n",
    "            'Mode': stats.mode,#returns mode value and count\n",
    "           'Standard error': stats.sem,\n",
    "            'Standard deviation':np.std,\n",
    "            'Variance':np.var,\n",
    "            'Coefficient of variation':cv,\n",
    "            'Skewness':stats.skew,\n",
    "            'Kurtosis':stats.kurtosis,\n",
    "            'Min':np.min,\n",
    "            'Max':np.max,\n",
    "            'Range':np.ptp,\n",
    "            'Sum':np.sum,\n",
    "            'Count':len,\n",
    "           }\n",
    "    stat_ds['Parameters']=params.keys()\n",
    "    \n",
    "    for c in ds.columns:\n",
    "        if ds[c].dtype!='object':\n",
    "            p=[]\n",
    "            for s in params.keys():\n",
    "                p.append(params[s](ds[c]))\n",
    "            stat_ds[c]=p\n",
    "    return stat_ds\n",
    "desc(ds)            "
   ]
  },
  {
   "cell_type": "code",
   "execution_count": 64,
   "metadata": {
    "ExecuteTime": {
     "end_time": "2019-10-07T02:18:21.562257Z",
     "start_time": "2019-10-07T02:18:21.380247Z"
    }
   },
   "outputs": [
    {
     "data": {
      "text/plain": [
       "<matplotlib.axes._subplots.AxesSubplot at 0xe358b70>"
      ]
     },
     "execution_count": 64,
     "metadata": {},
     "output_type": "execute_result"
    },
    {
     "data": {
      "image/png": "[encoded data removed]",
      "text/plain": [
       "<Figure size 432x288 with 1 Axes>"
      ]
     },
     "metadata": {},
     "output_type": "display_data"
    }
   ],
   "source": [
    "ds.age.hist()"
   ]
  },
  {
   "cell_type": "code",
   "execution_count": 65,
   "metadata": {
    "ExecuteTime": {
     "end_time": "2019-10-07T02:20:11.410540Z",
     "start_time": "2019-10-07T02:20:11.242530Z"
    }
   },
   "outputs": [
    {
     "data": {
      "text/plain": [
       "<matplotlib.axes._subplots.AxesSubplot at 0xe70a470>"
      ]
     },
     "execution_count": 65,
     "metadata": {},
     "output_type": "execute_result"
    },
    {
     "data": {
      "image/png": "[encoded data removed]",
      "text/plain": [
       "<Figure size 432x288 with 1 Axes>"
      ]
     },
     "metadata": {},
     "output_type": "display_data"
    }
   ],
   "source": [
    "ds['capital-gain'].hist()"
   ]
  },
  {
   "cell_type": "code",
   "execution_count": 66,
   "metadata": {
    "ExecuteTime": {
     "end_time": "2019-10-07T02:27:48.057659Z",
     "start_time": "2019-10-07T02:27:47.869648Z"
    }
   },
   "outputs": [
    {
     "data": {
      "text/plain": [
       "<matplotlib.axes._subplots.AxesSubplot at 0xe620710>"
      ]
     },
     "execution_count": 66,
     "metadata": {},
     "output_type": "execute_result"
    },
    {
     "data": {
      "image/png": "[encoded data removed]",
      "text/plain": [
       "<Figure size 432x288 with 1 Axes>"
      ]
     },
     "metadata": {},
     "output_type": "display_data"
    }
   ],
   "source": [
    "ds.fnlwgt.hist()"
   ]
  },
  {
   "cell_type": "markdown",
   "metadata": {
    "ExecuteTime": {
     "end_time": "2019-10-01T16:00:24.225132Z",
     "start_time": "2019-10-01T16:00:24.220132Z"
    }
   },
   "source": [
    "# Statistics description\n",
    "## Measures of Central Tendency\n",
    "### Mean\n",
    "The mean is calculated as\n",
    "\\begin{align*}\n",
    "\\mu = \\dfrac{\\sum_{i=1}^{N} x_i}{N}\n",
    "\\end{align*} \n",
    "### Median\n",
    "The median value is the middlemost value, you take the value in the position of\n",
    "\\begin{align*}\n",
    "\\dfrac{n+1}{2}\n",
    "\\end{align*} \n",
    "of the sorted data.\n",
    "\n",
    "### Mode\n",
    "The mode is the most frequent value.\n",
    "\n",
    "## Standard error\n",
    "The standard error of the mean (SE of the mean) estimates the variability between sample means that you would obtain if you took multiple samples from the same population. The standard error of the mean estimates the variability between samples whereas the standard deviation measures the variability within a single sample.\n",
    "\n",
    "It is calculated as:\n",
    "\\begin{align*}\n",
    "SE = \\dfrac{s}{\\sqrt{n}}\n",
    "\\end{align*}\n",
    "Where s is the sample standard deviation. \n",
    "\n",
    "## Standard deviation\n",
    "The variance can get very large for large data sets and so we will often use the standard deviation, which is the square root of the variance:\n",
    "\\begin{align*}\n",
    "\\sigma = \\sqrt{\\sigma^2}\n",
    "\\end{align*}\n",
    "68.2% of the data falls within 1 standard deviation of the mean, 95.4% falls within 2 standard deviations of the mean, and 99.7% falls within 3 standard deviations.\n",
    "\n",
    "## Variance\n",
    "Variance is a measure of how variable the data is, it is calculated as:\n",
    "\\begin{align*}\n",
    "\\sigma^2 = \\dfrac{\\sum_{i=1}^{N} (x_i – \\mu)^2}{N}\n",
    "\\end{align*}\n",
    "\n",
    "## Coefficient of variation\n",
    "The coefficient of variation (CV) is defined as the ratio of the standard deviation to the mean. It shows the extent of variability in relation to the mean of the population. \n",
    "\\begin{align*}\n",
    "cv=\\sigma/\\mu\n",
    "\\end{align*}\n",
    "\n",
    "## Skewness\n",
    "In probability theory and statistics, skewness is a measure of the asymmetry of the probability distribution of a real-valued random variable about its mean. The skewness value can be positive or negative, or undefined.\n",
    "\n",
    "## Kurtosis\n",
    "In probability theory and statistics, kurtosis (from Greek: κυρτός, kyrtos or kurtos, meaning \"curved, arching\") is a measure of the \"tailedness\" of the probability distribution of a real-valued random variable.\n",
    "\n",
    "## Min\n",
    "Minimum value\n",
    "\n",
    "## Max\t\n",
    "Maximum value\n",
    "\n",
    "## Range\n",
    "The range gives a measure of how spread apart the values are.\n",
    "\n",
    "The range is simply calculated as the maximum value – minimum value\n",
    "\\begin{align*}\n",
    "Max(xi)–Min(xi)\n",
    "\\end{align*}\n",
    "\n",
    "\n",
    "## Sum\n",
    "Simply sum of all values\n",
    "\n",
    "## Count\t\n",
    "Number of values processed\n",
    "\n",
    "*Sources:*\n",
    "http://benalexkeen.com/basic-statistics-in-python/\n",
    "https://en.wikipedia.org/wiki/Kurtosis\n",
    "https://en.wikipedia.org/wiki/Skewness"
   ]
  },
  {
   "cell_type": "markdown",
   "metadata": {},
   "source": [
    "# Correlation analysis"
   ]
  },
  {
   "cell_type": "code",
   "execution_count": 14,
   "metadata": {
    "ExecuteTime": {
     "end_time": "2019-10-06T15:34:01.769977Z",
     "start_time": "2019-10-06T15:34:01.636969Z"
    }
   },
   "outputs": [
    {
     "data": {
      "text/html": [
       "<div>\n",
       "<style scoped>\n",
       "    .dataframe tbody tr th:only-of-type {\n",
       "        vertical-align: middle;\n",
       "    }\n",
       "\n",
       "    .dataframe tbody tr th {\n",
       "        vertical-align: top;\n",
       "    }\n",
       "\n",
       "    .dataframe thead th {\n",
       "        text-align: right;\n",
       "    }\n",
       "</style>\n",
       "<table border=\"1\" class=\"dataframe\">\n",
       "  <thead>\n",
       "    <tr style=\"text-align: right;\">\n",
       "      <th></th>\n",
       "      <th>age</th>\n",
       "      <th>fnlwgt</th>\n",
       "      <th>education-num</th>\n",
       "      <th>capital-gain</th>\n",
       "      <th>capital-loss</th>\n",
       "      <th>hours-per-week</th>\n",
       "    </tr>\n",
       "  </thead>\n",
       "  <tbody>\n",
       "    <tr>\n",
       "      <th>age</th>\n",
       "      <td>1.000000</td>\n",
       "      <td>-0.076646</td>\n",
       "      <td>0.036527</td>\n",
       "      <td>0.077674</td>\n",
       "      <td>0.057775</td>\n",
       "      <td>0.068756</td>\n",
       "    </tr>\n",
       "    <tr>\n",
       "      <th>fnlwgt</th>\n",
       "      <td>-0.076646</td>\n",
       "      <td>1.000000</td>\n",
       "      <td>-0.043195</td>\n",
       "      <td>0.000432</td>\n",
       "      <td>-0.010252</td>\n",
       "      <td>-0.018768</td>\n",
       "    </tr>\n",
       "    <tr>\n",
       "      <th>education-num</th>\n",
       "      <td>0.036527</td>\n",
       "      <td>-0.043195</td>\n",
       "      <td>1.000000</td>\n",
       "      <td>0.122630</td>\n",
       "      <td>0.079923</td>\n",
       "      <td>0.148123</td>\n",
       "    </tr>\n",
       "    <tr>\n",
       "      <th>capital-gain</th>\n",
       "      <td>0.077674</td>\n",
       "      <td>0.000432</td>\n",
       "      <td>0.122630</td>\n",
       "      <td>1.000000</td>\n",
       "      <td>-0.031615</td>\n",
       "      <td>0.078409</td>\n",
       "    </tr>\n",
       "    <tr>\n",
       "      <th>capital-loss</th>\n",
       "      <td>0.057775</td>\n",
       "      <td>-0.010252</td>\n",
       "      <td>0.079923</td>\n",
       "      <td>-0.031615</td>\n",
       "      <td>1.000000</td>\n",
       "      <td>0.054256</td>\n",
       "    </tr>\n",
       "    <tr>\n",
       "      <th>hours-per-week</th>\n",
       "      <td>0.068756</td>\n",
       "      <td>-0.018768</td>\n",
       "      <td>0.148123</td>\n",
       "      <td>0.078409</td>\n",
       "      <td>0.054256</td>\n",
       "      <td>1.000000</td>\n",
       "    </tr>\n",
       "  </tbody>\n",
       "</table>\n",
       "</div>"
      ],
      "text/plain": [
       "                     age    fnlwgt  education-num  capital-gain  capital-loss  \\\n",
       "age             1.000000 -0.076646       0.036527      0.077674      0.057775   \n",
       "fnlwgt         -0.076646  1.000000      -0.043195      0.000432     -0.010252   \n",
       "education-num   0.036527 -0.043195       1.000000      0.122630      0.079923   \n",
       "capital-gain    0.077674  0.000432       0.122630      1.000000     -0.031615   \n",
       "capital-loss    0.057775 -0.010252       0.079923     -0.031615      1.000000   \n",
       "hours-per-week  0.068756 -0.018768       0.148123      0.078409      0.054256   \n",
       "\n",
       "                hours-per-week  \n",
       "age                   0.068756  \n",
       "fnlwgt               -0.018768  \n",
       "education-num         0.148123  \n",
       "capital-gain          0.078409  \n",
       "capital-loss          0.054256  \n",
       "hours-per-week        1.000000  "
      ]
     },
     "execution_count": 14,
     "metadata": {},
     "output_type": "execute_result"
    }
   ],
   "source": [
    "ds.corr()"
   ]
  },
  {
   "cell_type": "code",
   "execution_count": 17,
   "metadata": {
    "ExecuteTime": {
     "end_time": "2019-10-06T15:36:38.791958Z",
     "start_time": "2019-10-06T15:36:37.617891Z"
    }
   },
   "outputs": [
    {
     "data": {
      "text/plain": [
       "<matplotlib.axes._subplots.AxesSubplot at 0xb3aa9e8>"
      ]
     },
     "execution_count": 17,
     "metadata": {},
     "output_type": "execute_result"
    },
    {
     "data": {
      "image/png": "[encoded data removed]",
      "text/plain": [
       "<Figure size 432x288 with 2 Axes>"
      ]
     },
     "metadata": {},
     "output_type": "display_data"
    }
   ],
   "source": [
    "import seaborn as sns\n",
    "corr=ds.corr()\n",
    "sns.heatmap(corr, xticklabels=corr.columns, yticklabels=corr.columns, cmap=sns.diverging_palette(220, 10, as_cmap=True))"
   ]
  },
  {
   "cell_type": "code",
   "execution_count": 68,
   "metadata": {
    "ExecuteTime": {
     "end_time": "2019-10-07T02:39:05.785423Z",
     "start_time": "2019-10-07T02:39:05.300395Z"
    }
   },
   "outputs": [
    {
     "data": {
      "text/plain": [
       "<matplotlib.axes._subplots.AxesSubplot at 0xe7704a8>"
      ]
     },
     "execution_count": 68,
     "metadata": {},
     "output_type": "execute_result"
    },
    {
     "data": {
      "image/png": "[encoded data removed]",
      "text/plain": [
       "<Figure size 432x288 with 1 Axes>"
      ]
     },
     "metadata": {},
     "output_type": "display_data"
    }
   ],
   "source": [
    "ds.plot(x='hours-per-week',y='education-num', kind='scatter')"
   ]
  },
  {
   "cell_type": "code",
   "execution_count": 67,
   "metadata": {
    "ExecuteTime": {
     "end_time": "2019-10-07T02:38:49.789508Z",
     "start_time": "2019-10-07T02:38:49.296479Z"
    }
   },
   "outputs": [
    {
     "data": {
      "text/plain": [
       "<matplotlib.collections.PathCollection at 0xe75e320>"
      ]
     },
     "execution_count": 67,
     "metadata": {},
     "output_type": "execute_result"
    },
    {
     "data": {
      "image/png": "[encoded data removed]",
      "text/plain": [
       "<Figure size 432x288 with 1 Axes>"
      ]
     },
     "metadata": {},
     "output_type": "display_data"
    }
   ],
   "source": [
    "plt.scatter(np.log(ds['hours-per-week']+1), np.log(ds['education-num']+1))"
   ]
  },
  {
   "cell_type": "markdown",
   "metadata": {},
   "source": [
    "# Regression analysis"
   ]
  },
  {
   "cell_type": "code",
   "execution_count": null,
   "metadata": {
    "ExecuteTime": {
     "end_time": "2019-10-06T15:53:02.614230Z",
     "start_time": "2019-10-06T15:52:50.872558Z"
    }
   },
   "outputs": [],
   "source": [
    "from sklearn.linear_model import LinearRegression"
   ]
  },
  {
   "cell_type": "code",
   "execution_count": 40,
   "metadata": {
    "ExecuteTime": {
     "end_time": "2019-10-06T15:57:35.075814Z",
     "start_time": "2019-10-06T15:57:35.071813Z"
    }
   },
   "outputs": [],
   "source": [
    "num_cols=ds.dtypes[ds.dtypes!='object'].index"
   ]
  },
  {
   "cell_type": "code",
   "execution_count": 45,
   "metadata": {
    "ExecuteTime": {
     "end_time": "2019-10-06T16:07:33.055016Z",
     "start_time": "2019-10-06T16:07:32.580989Z"
    }
   },
   "outputs": [
    {
     "name": "stdout",
     "output_type": "stream",
     "text": [
      "age age 1.0\n",
      "age fnlwgt 0.005874589062318081\n",
      "age education-num 0.0013342355701466688\n",
      "age capital-gain 0.006033327665338484\n",
      "age capital-loss 0.003337897412008184\n",
      "age hours-per-week 0.004727347315139907\n",
      "fnlwgt age 0.005874589062318192\n",
      "fnlwgt fnlwgt 1.0\n",
      "fnlwgt education-num 0.0018657762969407354\n",
      "fnlwgt capital-gain 1.8652533684271333e-07\n",
      "fnlwgt capital-loss 0.00010509759227461667\n",
      "fnlwgt hours-per-week 0.00035225623980572607\n",
      "education-num age 0.001334235570146669\n",
      "education-num fnlwgt 0.0018657762969406244\n",
      "education-num education-num 1.0\n",
      "education-num capital-gain 0.015038145029427463\n",
      "education-num capital-loss 0.006387679005536162\n",
      "education-num hours-per-week 0.021940343919678695\n",
      "capital-gain age 0.006033327665339039\n",
      "capital-gain fnlwgt 1.8652533695373563e-07\n",
      "capital-gain education-num 0.015038145029427796\n",
      "capital-gain capital-gain 1.0\n",
      "capital-gain capital-loss 0.0009995122054740069\n",
      "capital-gain hours-per-week 0.006147910967398418\n",
      "capital-loss age 0.0033378974120075173\n",
      "capital-loss fnlwgt 0.00010509759227406157\n",
      "capital-loss education-num 0.006387679005535829\n",
      "capital-loss capital-gain 0.0009995122054728967\n",
      "capital-loss capital-loss 1.0\n",
      "capital-loss hours-per-week 0.002943752847061165\n",
      "hours-per-week age 0.004727347315139796\n",
      "hours-per-week fnlwgt 0.000352256239805393\n",
      "hours-per-week education-num 0.021940343919678584\n",
      "hours-per-week capital-gain 0.006147910967397419\n",
      "hours-per-week capital-loss 0.0029437528470617202\n",
      "hours-per-week hours-per-week 1.0\n"
     ]
    }
   ],
   "source": [
    "for i in range(len(num_cols)):\n",
    "    for j in range(len(num_cols)):\n",
    "        x=np.array(ds[num_cols[i]]).reshape(-1, 1)\n",
    "        y=np.array(ds[num_cols[j]])\n",
    "        lm=LinearRegression().fit(x,y)\n",
    "        print(num_cols[i],num_cols[j],lm.score(x,y))"
   ]
  },
  {
   "cell_type": "code",
   "execution_count": 50,
   "metadata": {
    "ExecuteTime": {
     "end_time": "2019-10-06T16:16:05.820345Z",
     "start_time": "2019-10-06T16:16:05.794343Z"
    },
    "scrolled": true
   },
   "outputs": [
    {
     "name": "stdout",
     "output_type": "stream",
     "text": [
      "0        39\n",
      "1        50\n",
      "2        38\n",
      "3        53\n",
      "4        28\n",
      "5        37\n",
      "6        49\n",
      "7        52\n",
      "8        31\n",
      "9        42\n",
      "10       37\n",
      "11       30\n",
      "12       23\n",
      "13       32\n",
      "14       40\n",
      "15       34\n",
      "16       25\n",
      "17       32\n",
      "18       38\n",
      "19       43\n",
      "20       40\n",
      "21       54\n",
      "22       35\n",
      "23       43\n",
      "24       59\n",
      "25       56\n",
      "26       19\n",
      "27       54\n",
      "28       39\n",
      "29       49\n",
      "         ..\n",
      "32531    30\n",
      "32532    34\n",
      "32533    54\n",
      "32534    37\n",
      "32535    22\n",
      "32536    34\n",
      "32537    30\n",
      "32538    38\n",
      "32539    71\n",
      "32540    45\n",
      "32541    41\n",
      "32542    72\n",
      "32543    45\n",
      "32544    31\n",
      "32545    39\n",
      "32546    37\n",
      "32547    43\n",
      "32548    65\n",
      "32549    43\n",
      "32550    43\n",
      "32551    32\n",
      "32552    43\n",
      "32553    32\n",
      "32554    53\n",
      "32555    22\n",
      "32556    27\n",
      "32557    40\n",
      "32558    58\n",
      "32559    22\n",
      "32560    52\n",
      "Name: age, Length: 32561, dtype: int64\n",
      "0         77516\n",
      "1         83311\n",
      "2        215646\n",
      "3        234721\n",
      "4        338409\n",
      "5        284582\n",
      "6        160187\n",
      "7        209642\n",
      "8         45781\n",
      "9        159449\n",
      "10       280464\n",
      "11       141297\n",
      "12       122272\n",
      "13       205019\n",
      "14       121772\n",
      "15       245487\n",
      "16       176756\n",
      "17       186824\n",
      "18        28887\n",
      "19       292175\n",
      "20       193524\n",
      "21       302146\n",
      "22        76845\n",
      "23       117037\n",
      "24       109015\n",
      "25       216851\n",
      "26       168294\n",
      "27       180211\n",
      "28       367260\n",
      "29       193366\n",
      "          ...  \n",
      "32531     33811\n",
      "32532    204461\n",
      "32533    337992\n",
      "32534    179137\n",
      "32535    325033\n",
      "32536    160216\n",
      "32537    345898\n",
      "32538    139180\n",
      "32539    287372\n",
      "32540    252208\n",
      "32541    202822\n",
      "32542    129912\n",
      "32543    119199\n",
      "32544    199655\n",
      "32545    111499\n",
      "32546    198216\n",
      "32547    260761\n",
      "32548     99359\n",
      "32549    255835\n",
      "32550     27242\n",
      "32551     34066\n",
      "32552     84661\n",
      "32553    116138\n",
      "32554    321865\n",
      "32555    310152\n",
      "32556    257302\n",
      "32557    154374\n",
      "32558    151910\n",
      "32559    201490\n",
      "32560    287927\n",
      "Name: fnlwgt, Length: 32561, dtype: int64\n",
      "0        13\n",
      "1        13\n",
      "2         9\n",
      "3         7\n",
      "4        13\n",
      "5        14\n",
      "6         5\n",
      "7         9\n",
      "8        14\n",
      "9        13\n",
      "10       10\n",
      "11       13\n",
      "12       13\n",
      "13       12\n",
      "14       11\n",
      "15        4\n",
      "16        9\n",
      "17        9\n",
      "18        7\n",
      "19       14\n",
      "20       16\n",
      "21        9\n",
      "22        5\n",
      "23        7\n",
      "24        9\n",
      "25       13\n",
      "26        9\n",
      "27       10\n",
      "28        9\n",
      "29        9\n",
      "         ..\n",
      "32531    13\n",
      "32532    16\n",
      "32533    13\n",
      "32534    10\n",
      "32535     8\n",
      "32536    13\n",
      "32537     9\n",
      "32538    13\n",
      "32539    16\n",
      "32540     9\n",
      "32541     9\n",
      "32542     9\n",
      "32543    12\n",
      "32544    14\n",
      "32545    12\n",
      "32546    12\n",
      "32547     9\n",
      "32548    15\n",
      "32549    10\n",
      "32550    10\n",
      "32551     6\n",
      "32552    11\n",
      "32553    14\n",
      "32554    14\n",
      "32555    10\n",
      "32556    12\n",
      "32557     9\n",
      "32558     9\n",
      "32559     9\n",
      "32560     9\n",
      "Name: education-num, Length: 32561, dtype: int64\n",
      "0         2174\n",
      "1            0\n",
      "2            0\n",
      "3            0\n",
      "4            0\n",
      "5            0\n",
      "6            0\n",
      "7            0\n",
      "8        14084\n",
      "9         5178\n",
      "10           0\n",
      "11           0\n",
      "12           0\n",
      "13           0\n",
      "14           0\n",
      "15           0\n",
      "16           0\n",
      "17           0\n",
      "18           0\n",
      "19           0\n",
      "20           0\n",
      "21           0\n",
      "22           0\n",
      "23           0\n",
      "24           0\n",
      "25           0\n",
      "26           0\n",
      "27           0\n",
      "28           0\n",
      "29           0\n",
      "         ...  \n",
      "32531        0\n",
      "32532        0\n",
      "32533        0\n",
      "32534        0\n",
      "32535        0\n",
      "32536        0\n",
      "32537        0\n",
      "32538    15020\n",
      "32539        0\n",
      "32540        0\n",
      "32541        0\n",
      "32542        0\n",
      "32543        0\n",
      "32544        0\n",
      "32545        0\n",
      "32546        0\n",
      "32547        0\n",
      "32548     1086\n",
      "32549        0\n",
      "32550        0\n",
      "32551        0\n",
      "32552        0\n",
      "32553        0\n",
      "32554        0\n",
      "32555        0\n",
      "32556        0\n",
      "32557        0\n",
      "32558        0\n",
      "32559        0\n",
      "32560    15024\n",
      "Name: capital-gain, Length: 32561, dtype: int64\n",
      "0           0\n",
      "1           0\n",
      "2           0\n",
      "3           0\n",
      "4           0\n",
      "5           0\n",
      "6           0\n",
      "7           0\n",
      "8           0\n",
      "9           0\n",
      "10          0\n",
      "11          0\n",
      "12          0\n",
      "13          0\n",
      "14          0\n",
      "15          0\n",
      "16          0\n",
      "17          0\n",
      "18          0\n",
      "19          0\n",
      "20          0\n",
      "21          0\n",
      "22          0\n",
      "23       2042\n",
      "24          0\n",
      "25          0\n",
      "26          0\n",
      "27          0\n",
      "28          0\n",
      "29          0\n",
      "         ... \n",
      "32531       0\n",
      "32532       0\n",
      "32533       0\n",
      "32534       0\n",
      "32535       0\n",
      "32536       0\n",
      "32537       0\n",
      "32538       0\n",
      "32539       0\n",
      "32540       0\n",
      "32541       0\n",
      "32542       0\n",
      "32543       0\n",
      "32544       0\n",
      "32545       0\n",
      "32546       0\n",
      "32547       0\n",
      "32548       0\n",
      "32549       0\n",
      "32550       0\n",
      "32551       0\n",
      "32552       0\n",
      "32553       0\n",
      "32554       0\n",
      "32555       0\n",
      "32556       0\n",
      "32557       0\n",
      "32558       0\n",
      "32559       0\n",
      "32560       0\n",
      "Name: capital-loss, Length: 32561, dtype: int64\n",
      "0        40\n",
      "1        13\n",
      "2        40\n",
      "3        40\n",
      "4        40\n",
      "5        40\n",
      "6        16\n",
      "7        45\n",
      "8        50\n",
      "9        40\n",
      "10       80\n",
      "11       40\n",
      "12       30\n",
      "13       50\n",
      "14       40\n",
      "15       45\n",
      "16       35\n",
      "17       40\n",
      "18       50\n",
      "19       45\n",
      "20       60\n",
      "21       20\n",
      "22       40\n",
      "23       40\n",
      "24       40\n",
      "25       40\n",
      "26       40\n",
      "27       60\n",
      "28       80\n",
      "29       40\n",
      "         ..\n",
      "32531    99\n",
      "32532    60\n",
      "32533    50\n",
      "32534    39\n",
      "32535    35\n",
      "32536    55\n",
      "32537    46\n",
      "32538    45\n",
      "32539    10\n",
      "32540    40\n",
      "32541    32\n",
      "32542    25\n",
      "32543    48\n",
      "32544    30\n",
      "32545    20\n",
      "32546    40\n",
      "32547    40\n",
      "32548    60\n",
      "32549    40\n",
      "32550    50\n",
      "32551    40\n",
      "32552    45\n",
      "32553    11\n",
      "32554    40\n",
      "32555    40\n",
      "32556    38\n",
      "32557    40\n",
      "32558    40\n",
      "32559    20\n",
      "32560    40\n",
      "Name: hours-per-week, Length: 32561, dtype: int64\n"
     ]
    }
   ],
   "source": [
    "for y in ds[num_cols]:\n",
    "    print(ds[y])"
   ]
  },
  {
   "cell_type": "code",
   "execution_count": 54,
   "metadata": {
    "ExecuteTime": {
     "end_time": "2019-10-06T16:19:47.879046Z",
     "start_time": "2019-10-06T16:19:47.749038Z"
    }
   },
   "outputs": [
    {
     "data": {
      "text/html": [
       "<div>\n",
       "<style scoped>\n",
       "    .dataframe tbody tr th:only-of-type {\n",
       "        vertical-align: middle;\n",
       "    }\n",
       "\n",
       "    .dataframe tbody tr th {\n",
       "        vertical-align: top;\n",
       "    }\n",
       "\n",
       "    .dataframe thead th {\n",
       "        text-align: right;\n",
       "    }\n",
       "</style>\n",
       "<table border=\"1\" class=\"dataframe\">\n",
       "  <thead>\n",
       "    <tr style=\"text-align: right;\">\n",
       "      <th></th>\n",
       "      <th>age</th>\n",
       "      <th>fnlwgt</th>\n",
       "      <th>education-num</th>\n",
       "      <th>capital-gain</th>\n",
       "      <th>capital-loss</th>\n",
       "      <th>hours-per-week</th>\n",
       "    </tr>\n",
       "  </thead>\n",
       "  <tbody>\n",
       "    <tr>\n",
       "      <th>age</th>\n",
       "      <td>1.000000</td>\n",
       "      <td>5.874589e-03</td>\n",
       "      <td>0.001334</td>\n",
       "      <td>6.033328e-03</td>\n",
       "      <td>0.003338</td>\n",
       "      <td>0.004727</td>\n",
       "    </tr>\n",
       "    <tr>\n",
       "      <th>fnlwgt</th>\n",
       "      <td>0.005875</td>\n",
       "      <td>1.000000e+00</td>\n",
       "      <td>0.001866</td>\n",
       "      <td>1.865253e-07</td>\n",
       "      <td>0.000105</td>\n",
       "      <td>0.000352</td>\n",
       "    </tr>\n",
       "    <tr>\n",
       "      <th>education-num</th>\n",
       "      <td>0.001334</td>\n",
       "      <td>1.865776e-03</td>\n",
       "      <td>1.000000</td>\n",
       "      <td>1.503815e-02</td>\n",
       "      <td>0.006388</td>\n",
       "      <td>0.021940</td>\n",
       "    </tr>\n",
       "    <tr>\n",
       "      <th>capital-gain</th>\n",
       "      <td>0.006033</td>\n",
       "      <td>1.865253e-07</td>\n",
       "      <td>0.015038</td>\n",
       "      <td>1.000000e+00</td>\n",
       "      <td>0.001000</td>\n",
       "      <td>0.006148</td>\n",
       "    </tr>\n",
       "    <tr>\n",
       "      <th>capital-loss</th>\n",
       "      <td>0.003338</td>\n",
       "      <td>1.050976e-04</td>\n",
       "      <td>0.006388</td>\n",
       "      <td>9.995122e-04</td>\n",
       "      <td>1.000000</td>\n",
       "      <td>0.002944</td>\n",
       "    </tr>\n",
       "    <tr>\n",
       "      <th>hours-per-week</th>\n",
       "      <td>0.004727</td>\n",
       "      <td>3.522562e-04</td>\n",
       "      <td>0.021940</td>\n",
       "      <td>6.147911e-03</td>\n",
       "      <td>0.002944</td>\n",
       "      <td>1.000000</td>\n",
       "    </tr>\n",
       "  </tbody>\n",
       "</table>\n",
       "</div>"
      ],
      "text/plain": [
       "                     age        fnlwgt  education-num  capital-gain  \\\n",
       "age             1.000000  5.874589e-03       0.001334  6.033328e-03   \n",
       "fnlwgt          0.005875  1.000000e+00       0.001866  1.865253e-07   \n",
       "education-num   0.001334  1.865776e-03       1.000000  1.503815e-02   \n",
       "capital-gain    0.006033  1.865253e-07       0.015038  1.000000e+00   \n",
       "capital-loss    0.003338  1.050976e-04       0.006388  9.995122e-04   \n",
       "hours-per-week  0.004727  3.522562e-04       0.021940  6.147911e-03   \n",
       "\n",
       "                capital-loss  hours-per-week  \n",
       "age                 0.003338        0.004727  \n",
       "fnlwgt              0.000105        0.000352  \n",
       "education-num       0.006388        0.021940  \n",
       "capital-gain        0.001000        0.006148  \n",
       "capital-loss        1.000000        0.002944  \n",
       "hours-per-week      0.002944        1.000000  "
      ]
     },
     "execution_count": 54,
     "metadata": {},
     "output_type": "execute_result"
    }
   ],
   "source": [
    "ds_reg=pd.DataFrame()\n",
    "for i in range(len(num_cols)):\n",
    "    x=np.array(ds[num_cols[i]]).reshape(-1, 1)\n",
    "    ds_reg[num_cols[i]]=[LinearRegression(normalize=True).fit(x,ds[y]).score(x,ds[y]) for y in num_cols]\n",
    "ds_reg.index=num_cols\n",
    "ds_reg"
   ]
  },
  {
   "cell_type": "code",
   "execution_count": 55,
   "metadata": {
    "ExecuteTime": {
     "end_time": "2019-10-06T16:19:55.860502Z",
     "start_time": "2019-10-06T16:19:55.651490Z"
    }
   },
   "outputs": [
    {
     "data": {
      "text/plain": [
       "<matplotlib.axes._subplots.AxesSubplot at 0xe2ad2b0>"
      ]
     },
     "execution_count": 55,
     "metadata": {},
     "output_type": "execute_result"
    },
    {
     "data": {
      "image/png": "[encoded data removed]",
      "text/plain": [
       "<Figure size 432x288 with 2 Axes>"
      ]
     },
     "metadata": {},
     "output_type": "display_data"
    }
   ],
   "source": [
    "sns.heatmap(ds_reg, xticklabels=ds_reg.columns, yticklabels=ds_reg.columns, cmap=sns.diverging_palette(220, 10, as_cmap=True))"
   ]
  },
  {
   "cell_type": "code",
   "execution_count": 63,
   "metadata": {
    "ExecuteTime": {
     "end_time": "2019-10-06T16:27:26.674287Z",
     "start_time": "2019-10-06T16:27:26.336268Z"
    }
   },
   "outputs": [
    {
     "name": "stdout",
     "output_type": "stream",
     "text": [
      "age 0.018956380254144367\n",
      "fnlwgt 0.007710614506635794\n",
      "education-num 0.04184274968099355\n",
      "capital-gain 0.02600776713688535\n",
      "capital-loss 0.013286928854379432\n",
      "hours-per-week 0.030925037420690416\n"
     ]
    }
   ],
   "source": [
    "\n",
    "\n",
    "for c in num_cols:\n",
    "    x=ds[num_cols].drop(c, axis=1)\n",
    "    y=ds[c]\n",
    "    lm=LinearRegression().fit(x,y)\n",
    "    print(c,lm.score(x,y))"
   ]
  },
  {
   "cell_type": "code",
   "execution_count": null,
   "metadata": {},
   "outputs": [],
   "source": []
  }
 ],
 "metadata": {
  "kernelspec": {
   "display_name": "Python 3",
   "language": "python",
   "name": "python3"
  },
  "language_info": {
   "codemirror_mode": {
    "name": "ipython",
    "version": 3
   },
   "file_extension": ".py",
   "mimetype": "text/x-python",
   "name": "python",
   "nbconvert_exporter": "python",
   "pygments_lexer": "ipython3",
   "version": "3.6.5"
  },
  "toc": {
   "base_numbering": 1,
   "nav_menu": {},
   "number_sections": true,
   "sideBar": true,
   "skip_h1_title": false,
   "title_cell": "Table of Contents",
   "title_sidebar": "Contents",
   "toc_cell": false,
   "toc_position": {
    "height": "calc(100% - 180px)",
    "left": "10px",
    "top": "150px",
    "width": "364px"
   },
   "toc_section_display": true,
   "toc_window_display": true
  },
  "varInspector": {
   "cols": {
    "lenName": 16,
    "lenType": 16,
    "lenVar": 40
   },
   "kernels_config": {
    "python": {
     "delete_cmd_postfix": "",
     "delete_cmd_prefix": "del ",
     "library": "var_list.py",
     "varRefreshCmd": "print(var_dic_list())"
    },
    "r": {
     "delete_cmd_postfix": ") ",
     "delete_cmd_prefix": "rm(",
     "library": "var_list.r",
     "varRefreshCmd": "cat(var_dic_list()) "
    }
   },
   "types_to_exclude": [
    "module",
    "function",
    "builtin_function_or_method",
    "instance",
    "_Feature"
   ],
   "window_display": false
  }
 },
 "nbformat": 4,
 "nbformat_minor": 2
}
